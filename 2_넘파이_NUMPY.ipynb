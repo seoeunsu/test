{
  "cells": [
    {
      "cell_type": "markdown",
      "metadata": {
        "id": "uqSuudY1TvkW"
      },
      "source": [
        "# NumPy"
      ]
    },
    {
      "cell_type": "markdown",
      "metadata": {
        "id": "cot7gf5LT5w-"
      },
      "source": [
        "- NumPy(Numerical Python)는 선형대수 기반 수치 계산 및 데이터 분석을 위한 강력한 파이썬 라이브러리입니다. 주로 다차원 배열 처리와 관련된 기능을 제공하며, 데이터 과학, 머신러닝, 시뮬레이션 및 기타 과학 계산 분야에서 널리 사용됩니다.\n",
        "\n",
        "- C로 구현되어 있어 일반적인 파이썬 리스트보다 빠르고 메모리 효율적입니다.\n",
        "\n",
        "- NumPy는 다른 라이브러리(예: Pandas, TensorFlow, PyTorch)에서도 핵심 기반으로 사용되며, 파이썬 생태계에서 매우 중요한 역할을 합니다."
      ]
    },
    {
      "cell_type": "markdown",
      "metadata": {
        "id": "j2BJrKRARn9N"
      },
      "source": [
        "- Scikit-learn : numpy배열을 입력으로 받음. 또한 연산도 numpy함수를 쓰는 경우가 많음.\n",
        "- 머신러닝에서 '전처리는 필수' pandas\n",
        "- 머신러닝 패키지와 전처리 패키지 간 연계가 자유롭다."
      ]
    },
    {
      "cell_type": "markdown",
      "metadata": {
        "id": "A2hBC-NlUiW2"
      },
      "source": [
        "## 설치 및 기본"
      ]
    },
    {
      "cell_type": "code",
      "execution_count": 1,
      "metadata": {
        "id": "mYa6eM9cUyFW"
      },
      "outputs": [
        {
          "name": "stdout",
          "output_type": "stream",
          "text": [
            "Defaulting to user installation because normal site-packages is not writeable\n",
            "Requirement already satisfied: numpy in c:\\users\\tjdms\\appdata\\local\\packages\\pythonsoftwarefoundation.python.3.12_qbz5n2kfra8p0\\localcache\\local-packages\\python312\\site-packages (2.1.3)\n"
          ]
        }
      ],
      "source": [
        "!pip install numpy"
      ]
    },
    {
      "cell_type": "code",
      "execution_count": 2,
      "metadata": {
        "colab": {
          "base_uri": "https://localhost:8080/"
        },
        "id": "Zot6ETc8U7gG",
        "outputId": "23304782-c9f6-47bc-e567-e4b51ce6d093"
      },
      "outputs": [
        {
          "name": "stdout",
          "output_type": "stream",
          "text": [
            "배열[1 2 3 4], 타입<class 'numpy.ndarray'>\n"
          ]
        },
        {
          "data": {
            "text/plain": [
              "array([2, 4, 6, 8])"
            ]
          },
          "execution_count": 2,
          "metadata": {},
          "output_type": "execute_result"
        }
      ],
      "source": [
        "import numpy as np\n",
        "# 배열 생성\n",
        "a = np.array([1,2,3,4])\n",
        "print(f'배열{a}, 타입{type(a)}')\n",
        "# 배열 연산\n",
        "# list : 1234, 1234 두번 반복\n",
        "listA = [1,2,3,4]\n",
        "listB = listA *2\n",
        "listB \n",
        "# array : 배열하나하나에 적용됨\n",
        "b = a * 2\n",
        "b"
      ]
    },
    {
      "cell_type": "markdown",
      "metadata": {
        "id": "eWZW6Nhu8eQ7"
      },
      "source": [
        "## 파이썬의 리스트를 넘파이 배열로 바꾸기"
      ]
    },
    {
      "cell_type": "code",
      "execution_count": 4,
      "metadata": {
        "id": "D3BpNom5YZSG"
      },
      "outputs": [
        {
          "name": "stdout",
          "output_type": "stream",
          "text": [
            "<class 'list'>\n",
            "<class 'numpy.ndarray'>\n"
          ]
        },
        {
          "data": {
            "text/plain": [
              "array([[1, 2],\n",
              "       [3, 4]])"
            ]
          },
          "execution_count": 4,
          "metadata": {},
          "output_type": "execute_result"
        }
      ],
      "source": [
        "A = [[1,2],[3,4]]\n",
        "print(type(A))\n",
        "A_numpy = np.array(A)\n",
        "print(type(A_numpy))\n",
        "A_numpy "
      ]
    },
    {
      "cell_type": "markdown",
      "metadata": {
        "id": "zNdmRug78eQ9"
      },
      "source": [
        "## 넘파이 배열을 리스트로 바꾸기"
      ]
    },
    {
      "cell_type": "code",
      "execution_count": 6,
      "metadata": {
        "id": "MRUXa0g2YaK-"
      },
      "outputs": [
        {
          "name": "stdout",
          "output_type": "stream",
          "text": [
            "[[1, 2], [3, 4]] <class 'list'>\n"
          ]
        }
      ],
      "source": [
        "list_a = A_numpy.tolist()\n",
        "print(list_a, type(list_a))"
      ]
    },
    {
      "cell_type": "markdown",
      "metadata": {
        "id": "7E7sxXev8eQ-"
      },
      "source": [
        "## 전치행렬"
      ]
    },
    {
      "cell_type": "code",
      "execution_count": 9,
      "metadata": {
        "id": "s-bHx29jYcTd"
      },
      "outputs": [
        {
          "name": "stdout",
          "output_type": "stream",
          "text": [
            "[[1 2 3]\n",
            " [4 5 6]]\n",
            "[[1 4]\n",
            " [2 5]\n",
            " [3 6]]\n"
          ]
        }
      ],
      "source": [
        "co = np.array([[1,2,3],[4,5,6]])\n",
        "print(co)\n",
        "print(co.T)"
      ]
    },
    {
      "cell_type": "markdown",
      "metadata": {
        "id": "AjV9p-g18eQ-"
      },
      "source": [
        "## 배열 확인"
      ]
    },
    {
      "cell_type": "code",
      "execution_count": 11,
      "metadata": {
        "id": "oEnKAg-_Ydw9"
      },
      "outputs": [
        {
          "data": {
            "text/plain": [
              "dtype('int64')"
            ]
          },
          "execution_count": 11,
          "metadata": {},
          "output_type": "execute_result"
        }
      ],
      "source": [
        "# 데이터타입 확인\n",
        "co.dtype # array 배열에서는 dtype이 섞이면 안됨."
      ]
    },
    {
      "cell_type": "code",
      "execution_count": 12,
      "metadata": {},
      "outputs": [
        {
          "name": "stdout",
          "output_type": "stream",
          "text": [
            "2\n",
            "(2, 3)\n"
          ]
        }
      ],
      "source": [
        "# 차원, 크기\n",
        "print(co.ndim) # 차원\n",
        "print(co.shape) # 크기 # 행2개 열3개"
      ]
    },
    {
      "cell_type": "markdown",
      "metadata": {
        "id": "7lWKiqxCVwGm"
      },
      "source": [
        "## range로 배열 생성"
      ]
    },
    {
      "cell_type": "code",
      "execution_count": 14,
      "metadata": {
        "id": "gXY5G5o_YeuD"
      },
      "outputs": [
        {
          "data": {
            "text/plain": [
              "array([0, 1, 2, 3, 4, 5, 6, 7, 8, 9])"
            ]
          },
          "execution_count": 14,
          "metadata": {},
          "output_type": "execute_result"
        }
      ],
      "source": [
        "np.arange(10) # 테스트 데이터셋(차원과 크기가 같은) 만들때 유용하게 사용"
      ]
    },
    {
      "cell_type": "markdown",
      "metadata": {
        "id": "NFtkExV68eQ_"
      },
      "source": [
        "## 인덱싱"
      ]
    },
    {
      "cell_type": "code",
      "execution_count": 24,
      "metadata": {
        "id": "FyJZBoWYYiEu"
      },
      "outputs": [
        {
          "data": {
            "text/plain": [
              "array([1, 2, 3])"
            ]
          },
          "execution_count": 24,
          "metadata": {},
          "output_type": "execute_result"
        }
      ],
      "source": [
        "array1 = np.arange(1,10)\n",
        "array1[:3]"
      ]
    },
    {
      "cell_type": "code",
      "execution_count": 14,
      "metadata": {
        "id": "-kzaAH5YYh7t"
      },
      "outputs": [],
      "source": [
        "array2 = np.arange(1,10) # 1차원 배열\n",
        "# shpae(행,열)a=\n",
        "array2 = array2.reshape(3,3) # 2차원 배열\n"
      ]
    },
    {
      "cell_type": "code",
      "execution_count": 29,
      "metadata": {},
      "outputs": [
        {
          "name": "stdout",
          "output_type": "stream",
          "text": [
            "[[1 2 3]\n",
            " [4 5 6]\n",
            " [7 8 9]]\n",
            "[[1 2]\n",
            " [4 5]]\n"
          ]
        }
      ],
      "source": [
        "print(array2)\n",
        "print(array2[:2 , :2])"
      ]
    },
    {
      "cell_type": "code",
      "execution_count": 110,
      "metadata": {
        "id": "qEp1TYbQYh1t"
      },
      "outputs": [
        {
          "name": "stdout",
          "output_type": "stream",
          "text": [
            "0.4755795996019664\n",
            "1.1570519817878295\n",
            "2.7521230086765778\n"
          ]
        },
        {
          "ename": "NameError",
          "evalue": "name 'i' is not defined",
          "output_type": "error",
          "traceback": [
            "\u001b[1;31m---------------------------------------------------------------------------\u001b[0m",
            "\u001b[1;31mNameError\u001b[0m                                 Traceback (most recent call last)",
            "Cell \u001b[1;32mIn[110], line 9\u001b[0m\n\u001b[0;32m      7\u001b[0m \u001b[38;5;28mprint\u001b[39m(random\u001b[38;5;241m.\u001b[39mrandom()\u001b[38;5;241m+\u001b[39m\u001b[38;5;241m1\u001b[39m)\n\u001b[0;32m      8\u001b[0m \u001b[38;5;28mprint\u001b[39m(random\u001b[38;5;241m.\u001b[39mrandom()\u001b[38;5;241m+\u001b[39m\u001b[38;5;241m2\u001b[39m)\n\u001b[1;32m----> 9\u001b[0m \u001b[38;5;241m0\u001b[39m\u001b[38;5;241m<\u001b[39m\u001b[38;5;241m=\u001b[39m \u001b[43mi\u001b[49m \u001b[38;5;241m<\u001b[39m\u001b[38;5;241m=\u001b[39m \u001b[38;5;241m2\u001b[39m\n\u001b[0;32m     10\u001b[0m \u001b[38;5;28mprint\u001b[39m(random\u001b[38;5;241m.\u001b[39mrandom()\u001b[38;5;241m+\u001b[39mi)\n",
            "\u001b[1;31mNameError\u001b[0m: name 'i' is not defined"
          ]
        }
      ],
      "source": [
        "# 3 * 4 2차원 배열\n",
        "# 0~3 사이의 임의의 실수(단 소숫점 아래 한자리)\n",
        "# 넘파이 배열\n",
        "\n",
        "import random # 랜덤 기능패키지를 불러오기 함\n",
        "print(random.random()+0)\n",
        "print(random.random()+1)\n",
        "print(random.random()+2)\n",
        "\n",
        "print(random.random()+i)"
      ]
    },
    {
      "cell_type": "code",
      "execution_count": null,
      "metadata": {},
      "outputs": [],
      "source": [
        "# 3 * 4  2차원배열\n",
        "# 0~3 사이의 임의의 실수(단, 소숫점 아래 한자리)\n",
        "# 넘파이 배열\n",
        "array3 = np.random.rand(3, 4)\n",
        "\n",
        "# 모든 데이터가 소숫점 아래 한자리\n",
        "array3 = np.round(array3, 1)\n",
        "print(array3)"
      ]
    },
    {
      "cell_type": "code",
      "execution_count": 7,
      "metadata": {},
      "outputs": [],
      "source": [
        "list = []\n",
        "import numpy as np"
      ]
    },
    {
      "cell_type": "code",
      "execution_count": 34,
      "metadata": {},
      "outputs": [
        {
          "data": {
            "text/plain": [
              "0.5057812751910009"
            ]
          },
          "execution_count": 34,
          "metadata": {},
          "output_type": "execute_result"
        }
      ],
      "source": [
        "random_float = random.uniform(0, 3)\n",
        "random_float"
      ]
    },
    {
      "cell_type": "code",
      "execution_count": 36,
      "metadata": {},
      "outputs": [
        {
          "data": {
            "text/plain": [
              "170"
            ]
          },
          "execution_count": 36,
          "metadata": {},
          "output_type": "execute_result"
        }
      ],
      "source": [
        "import random\n",
        "for i in range(0,12):\n",
        "    random_float = random.uniform(0, 3)\n",
        "    list.append(random_float)\n",
        "len(list)\n"
      ]
    },
    {
      "cell_type": "markdown",
      "metadata": {
        "id": "EwTwb1ew8eRA"
      },
      "source": [
        "## 불린인덱싱\n",
        "넘파이 배열 인덱싱에 조건을 붙이면 조건에 맞는 불리언배열이 만들어진다.\n",
        "즉, 불리언배열을 가지고 값을 찾게 되는데 조건문\n",
        "if/else를 사용한 방법 보다 훨씬 효율적이다."
      ]
    },
    {
      "cell_type": "code",
      "execution_count": 21,
      "metadata": {},
      "outputs": [
        {
          "data": {
            "text/plain": [
              "array([6, 7, 8, 9])"
            ]
          },
          "execution_count": 21,
          "metadata": {},
          "output_type": "execute_result"
        }
      ],
      "source": [
        "array4 = np.arange(1, 10)\n",
        "array4[array4 > 5]"
      ]
    },
    {
      "cell_type": "markdown",
      "metadata": {
        "id": "yRpjB1uZYCnA"
      },
      "source": [
        "## 정렬"
      ]
    },
    {
      "cell_type": "markdown",
      "metadata": {
        "id": "LJLkYPa88eRA"
      },
      "source": [
        "\n",
        "\n",
        "*   np.sort(arraytest) 정렬된 배열을 반환\n",
        "*   arraytest.sort() 원본정렬\n",
        "*   np.sort(arraytest)[::-1] 내림차순\n",
        "*   np.sort(arraytest, axis=0)  2차원일 경우 (열을 기준으로 정렬)\n",
        "*   np.argsort() 정렬한 뒤, 정렬 전 인덱스를 반환"
      ]
    },
    {
      "cell_type": "code",
      "execution_count": 22,
      "metadata": {
        "id": "ZJgD4aPhYldd"
      },
      "outputs": [
        {
          "name": "stdout",
          "output_type": "stream",
          "text": [
            "원본 [3 1 9 5]\n",
            "정렬 [1 3 5 9]\n",
            "내림차순 [9 5 3 1]\n",
            "정렬 전 인덱스 [1 0 3 2]\n"
          ]
        }
      ],
      "source": [
        "org_array = np.array([3, 1, 9, 5])\n",
        "print('원본',org_array)\n",
        "\n",
        "sorted_array = np.sort(org_array)\n",
        "print('정렬',sorted_array)\n",
        "\n",
        "reversed_array = np.sort(org_array)[::-1]\n",
        "print('내림차순',reversed_array)\n",
        "\n",
        "org_index = np.argsort(org_array)\n",
        "print('정렬 전 인덱스',org_index)"
      ]
    },
    {
      "cell_type": "markdown",
      "metadata": {
        "id": "HPGF3bTk8eRB"
      },
      "source": [
        "### 중복제거"
      ]
    },
    {
      "cell_type": "code",
      "execution_count": 35,
      "metadata": {
        "id": "9MwlKeD_Ymcu"
      },
      "outputs": [
        {
          "data": {
            "text/plain": [
              "array([1, 2, 3, 4])"
            ]
          },
          "execution_count": 35,
          "metadata": {},
          "output_type": "execute_result"
        }
      ],
      "source": [
        "dup_array = np.array([1, 1, 2, 2, 2, 3, 3, 4])\n",
        "np.unique(dup_array)"
      ]
    }
  ],
  "metadata": {
    "colab": {
      "provenance": []
    },
    "kernelspec": {
      "display_name": "Python 3",
      "language": "python",
      "name": "python3"
    },
    "language_info": {
      "codemirror_mode": {
        "name": "ipython",
        "version": 3
      },
      "file_extension": ".py",
      "mimetype": "text/x-python",
      "name": "python",
      "nbconvert_exporter": "python",
      "pygments_lexer": "ipython3",
      "version": "3.12.8"
    }
  },
  "nbformat": 4,
  "nbformat_minor": 0
}
